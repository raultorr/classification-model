{
 "cells": [
  {
   "cell_type": "code",
   "execution_count": 146,
   "metadata": {},
   "outputs": [
    {
     "name": "stdout",
     "output_type": "stream",
     "text": [
      "Python Platform: Windows-10-10.0.19045-SP0\n",
      "Tensor Flow Version: 2.13.0\n",
      "\n",
      "Python 3.10.9 | packaged by conda-forge | (main, Feb  2 2023, 20:14:58) [MSC v.1929 64 bit (AMD64)]\n",
      "Pandas 2.0.3\n",
      "Scikit-Learn 1.3.0\n",
      "GPU is NOT AVAILABLE\n"
     ]
    }
   ],
   "source": [
    "# What version of Python do you have?\n",
    "import sys\n",
    "from tensorflow import keras\n",
    "import pandas as pd\n",
    "import sklearn as sk\n",
    "import tensorflow as tf\n",
    "import platform\n",
    "import os\n",
    "import cv2\n",
    "import numpy as np\n",
    "from sklearn.metrics import confusion_matrix, accuracy_score, recall_score, f1_score\n",
    "from sklearn.model_selection import train_test_split\n",
    "import seaborn as sns\n",
    "import matplotlib.pyplot as plt\n",
    "\n",
    "\n",
    "print(f\"Python Platform: {platform.platform()}\")\n",
    "print(f\"Tensor Flow Version: {tf.__version__}\")\n",
    "#print(f\"Keras Version: {tf.keras.__version__}\")\n",
    "print()\n",
    "print(f\"Python {sys.version}\")\n",
    "print(f\"Pandas {pd.__version__}\")\n",
    "print(f\"Scikit-Learn {sk.__version__}\")\n",
    "gpu = len(tf.config.list_physical_devices('GPU')) > 0\n",
    "print(\"GPU is\", \"available\" if gpu else \"NOT AVAILABLE\")\n"
   ]
  },
  {
   "cell_type": "code",
   "execution_count": 147,
   "metadata": {},
   "outputs": [],
   "source": [
    "dataset = 'dataset'"
   ]
  },
  {
   "cell_type": "code",
   "execution_count": 148,
   "metadata": {},
   "outputs": [],
   "source": [
    "# Lista para almacenar las rutas de las imágenes y sus etiquetas (hombre: 0, mujer: 1)\n",
    "X = []\n",
    "y = []"
   ]
  },
  {
   "cell_type": "code",
   "execution_count": 149,
   "metadata": {},
   "outputs": [],
   "source": [
    "clases = os.listdir(dataset)\n",
    "for clase in clases:\n",
    "    ruta_clase = os.path.join(dataset, clase)\n",
    "    if not os.path.isdir(ruta_clase):\n",
    "        continue\n",
    "\n",
    "    etiqueta = 0 if clase == 'hombre' else 1\n",
    "    for imagen_nombre in os.listdir(ruta_clase):\n",
    "        ruta_imagen = os.path.join(ruta_clase, imagen_nombre)\n",
    "\n",
    "        X.append(ruta_imagen)\n",
    "        y.append(etiqueta)"
   ]
  },
  {
   "cell_type": "code",
   "execution_count": 150,
   "metadata": {},
   "outputs": [],
   "source": [
    "# Convertir las listas en arrays numpy\n",
    "X = np.array(X)\n",
    "y = np.array(y)"
   ]
  },
  {
   "cell_type": "code",
   "execution_count": 151,
   "metadata": {},
   "outputs": [],
   "source": [
    "# Dividir los datos en conjunto de entrenamiento, validación y prueba\n",
    "X_train_temp, X_test, y_train_temp, y_test = train_test_split(X, y, test_size=0.1, random_state=42)\n",
    "X_val, X_test, y_val, y_test = train_test_split(X_train_temp, y_train_temp, test_size=0.1, random_state=42)"
   ]
  },
  {
   "cell_type": "code",
   "execution_count": 152,
   "metadata": {},
   "outputs": [],
   "source": [
    "# Redimensionar las imágenes a 128x128\n",
    "def resize_images(images, new_size):\n",
    "    resized_images = []\n",
    "    for image_path in images:\n",
    "        image = cv2.imread(image_path)\n",
    "        resized_image = cv2.resize(image, (new_size, new_size))\n",
    "        resized_images.append(resized_image)\n",
    "    return np.array(resized_images)\n",
    "\n",
    "new_size = 128\n",
    "X_train_resized = resize_images(X_train_temp, new_size)\n",
    "X_val_resized = resize_images(X_val, new_size)\n",
    "X_test_resized = resize_images(X_test, new_size)"
   ]
  },
  {
   "cell_type": "code",
   "execution_count": 153,
   "metadata": {},
   "outputs": [],
   "source": [
    "#from tensorflow.keras.applications import VGG16\n",
    "from tensorflow.keras.layers import Dense, Flatten\n",
    "from tensorflow.keras.models import Model"
   ]
  },
  {
   "cell_type": "code",
   "execution_count": 154,
   "metadata": {},
   "outputs": [],
   "source": [
    "base_model = tf.keras.applications.mobilenet_v2.MobileNetV2(weights='imagenet', include_top=False, input_shape=(128, 128, 3))\n"
   ]
  },
  {
   "cell_type": "code",
   "execution_count": 155,
   "metadata": {},
   "outputs": [],
   "source": [
    "base_model.trainable = False"
   ]
  },
  {
   "cell_type": "code",
   "execution_count": 156,
   "metadata": {},
   "outputs": [],
   "source": [
    "# Agregar capas personalizadas al modelo\n",
    "x = base_model.output\n",
    "x = Flatten()(x)\n",
    "x = Dense(128, activation='relu')(x)\n",
    "output = Dense(1, activation='sigmoid')(x)"
   ]
  },
  {
   "cell_type": "code",
   "execution_count": 157,
   "metadata": {},
   "outputs": [],
   "source": [
    "# Construir el modelo completo\n",
    "model = Model(inputs=base_model.input, outputs=output)"
   ]
  },
  {
   "cell_type": "code",
   "execution_count": 158,
   "metadata": {},
   "outputs": [],
   "source": [
    "from tensorflow.keras.optimizers.legacy import Adam, SGD"
   ]
  },
  {
   "cell_type": "code",
   "execution_count": 159,
   "metadata": {},
   "outputs": [],
   "source": [
    "# Compilar el modelo\n",
    "#model.compile(optimizer=Adam(), loss='binary_crossentropy', metrics=['accuracy'])\n",
    "model.compile(optimizer=SGD(learning_rate=0.0001), loss='binary_crossentropy', metrics=['accuracy'])"
   ]
  },
  {
   "cell_type": "code",
   "execution_count": 160,
   "metadata": {},
   "outputs": [
    {
     "name": "stdout",
     "output_type": "stream",
     "text": [
      "Epoch 1/50\n",
      "14/14 [==============================] - 9s 482ms/step - loss: 0.7342 - accuracy: 0.5787 - val_loss: 0.6955 - val_accuracy: 0.5928\n",
      "Epoch 2/50\n",
      "14/14 [==============================] - 5s 402ms/step - loss: 0.6847 - accuracy: 0.6343 - val_loss: 0.6671 - val_accuracy: 0.6082\n",
      "Epoch 3/50\n",
      "14/14 [==============================] - 6s 406ms/step - loss: 0.6584 - accuracy: 0.6204 - val_loss: 0.6427 - val_accuracy: 0.6392\n",
      "Epoch 4/50\n",
      "14/14 [==============================] - 5s 403ms/step - loss: 0.6329 - accuracy: 0.6435 - val_loss: 0.6230 - val_accuracy: 0.6572\n",
      "Epoch 5/50\n",
      "14/14 [==============================] - 6s 409ms/step - loss: 0.6162 - accuracy: 0.6551 - val_loss: 0.6076 - val_accuracy: 0.6701\n",
      "Epoch 6/50\n",
      "14/14 [==============================] - 6s 416ms/step - loss: 0.6027 - accuracy: 0.6806 - val_loss: 0.5978 - val_accuracy: 0.6804\n",
      "Epoch 7/50\n",
      "14/14 [==============================] - 6s 414ms/step - loss: 0.5897 - accuracy: 0.6898 - val_loss: 0.5845 - val_accuracy: 0.6959\n",
      "Epoch 8/50\n",
      "14/14 [==============================] - 6s 422ms/step - loss: 0.5792 - accuracy: 0.6991 - val_loss: 0.5707 - val_accuracy: 0.6985\n",
      "Epoch 9/50\n",
      "14/14 [==============================] - 6s 415ms/step - loss: 0.5657 - accuracy: 0.7130 - val_loss: 0.5601 - val_accuracy: 0.7113\n",
      "Epoch 10/50\n",
      "14/14 [==============================] - 6s 415ms/step - loss: 0.5558 - accuracy: 0.7199 - val_loss: 0.5510 - val_accuracy: 0.7216\n",
      "Epoch 11/50\n",
      "14/14 [==============================] - 6s 442ms/step - loss: 0.5490 - accuracy: 0.7269 - val_loss: 0.5428 - val_accuracy: 0.7345\n",
      "Epoch 12/50\n",
      "14/14 [==============================] - 6s 454ms/step - loss: 0.5381 - accuracy: 0.7431 - val_loss: 0.5356 - val_accuracy: 0.7423\n",
      "Epoch 13/50\n",
      "14/14 [==============================] - 7s 479ms/step - loss: 0.5336 - accuracy: 0.7384 - val_loss: 0.5282 - val_accuracy: 0.7423\n",
      "Epoch 14/50\n",
      "14/14 [==============================] - 7s 486ms/step - loss: 0.5279 - accuracy: 0.7454 - val_loss: 0.5220 - val_accuracy: 0.7474\n",
      "Epoch 15/50\n",
      "14/14 [==============================] - 7s 528ms/step - loss: 0.5218 - accuracy: 0.7500 - val_loss: 0.5174 - val_accuracy: 0.7552\n",
      "Epoch 16/50\n",
      "14/14 [==============================] - 7s 547ms/step - loss: 0.5139 - accuracy: 0.7454 - val_loss: 0.5106 - val_accuracy: 0.7577\n",
      "Epoch 17/50\n",
      "14/14 [==============================] - 8s 612ms/step - loss: 0.5088 - accuracy: 0.7639 - val_loss: 0.5051 - val_accuracy: 0.7577\n",
      "Epoch 18/50\n",
      "14/14 [==============================] - 9s 639ms/step - loss: 0.5059 - accuracy: 0.7616 - val_loss: 0.5000 - val_accuracy: 0.7577\n",
      "Epoch 19/50\n",
      "14/14 [==============================] - 10s 734ms/step - loss: 0.4978 - accuracy: 0.7685 - val_loss: 0.4948 - val_accuracy: 0.7603\n",
      "Epoch 20/50\n",
      "14/14 [==============================] - 11s 787ms/step - loss: 0.4924 - accuracy: 0.7662 - val_loss: 0.4921 - val_accuracy: 0.7732\n",
      "Epoch 21/50\n",
      "14/14 [==============================] - 11s 825ms/step - loss: 0.4886 - accuracy: 0.7824 - val_loss: 0.4852 - val_accuracy: 0.7655\n",
      "Epoch 22/50\n",
      "14/14 [==============================] - 11s 817ms/step - loss: 0.4835 - accuracy: 0.7801 - val_loss: 0.4812 - val_accuracy: 0.7758\n",
      "Epoch 23/50\n",
      "14/14 [==============================] - 11s 829ms/step - loss: 0.4799 - accuracy: 0.7824 - val_loss: 0.4761 - val_accuracy: 0.7784\n",
      "Epoch 24/50\n",
      "14/14 [==============================] - 11s 830ms/step - loss: 0.4747 - accuracy: 0.7801 - val_loss: 0.4744 - val_accuracy: 0.7784\n",
      "Epoch 25/50\n",
      "14/14 [==============================] - 11s 840ms/step - loss: 0.4721 - accuracy: 0.7824 - val_loss: 0.4682 - val_accuracy: 0.7861\n",
      "Epoch 26/50\n",
      "14/14 [==============================] - 11s 834ms/step - loss: 0.4660 - accuracy: 0.7870 - val_loss: 0.4722 - val_accuracy: 0.7912\n",
      "Epoch 27/50\n",
      "14/14 [==============================] - 12s 849ms/step - loss: 0.4650 - accuracy: 0.7986 - val_loss: 0.4691 - val_accuracy: 0.7912\n",
      "Epoch 28/50\n",
      "14/14 [==============================] - 10s 756ms/step - loss: 0.4597 - accuracy: 0.7940 - val_loss: 0.4557 - val_accuracy: 0.8015\n",
      "Epoch 29/50\n",
      "14/14 [==============================] - 9s 639ms/step - loss: 0.4553 - accuracy: 0.8032 - val_loss: 0.4530 - val_accuracy: 0.8041\n",
      "Epoch 30/50\n",
      "14/14 [==============================] - 9s 629ms/step - loss: 0.4521 - accuracy: 0.8079 - val_loss: 0.4484 - val_accuracy: 0.8067\n",
      "Epoch 31/50\n",
      "14/14 [==============================] - 9s 667ms/step - loss: 0.4475 - accuracy: 0.8102 - val_loss: 0.4461 - val_accuracy: 0.8067\n",
      "Epoch 32/50\n",
      "14/14 [==============================] - 8s 579ms/step - loss: 0.4440 - accuracy: 0.8171 - val_loss: 0.4438 - val_accuracy: 0.7964\n",
      "Epoch 33/50\n",
      "14/14 [==============================] - 9s 642ms/step - loss: 0.4409 - accuracy: 0.8241 - val_loss: 0.4387 - val_accuracy: 0.8093\n",
      "Epoch 34/50\n",
      "14/14 [==============================] - 8s 556ms/step - loss: 0.4385 - accuracy: 0.8125 - val_loss: 0.4346 - val_accuracy: 0.8170\n",
      "Epoch 35/50\n",
      "14/14 [==============================] - 8s 566ms/step - loss: 0.4350 - accuracy: 0.8194 - val_loss: 0.4318 - val_accuracy: 0.8041\n",
      "Epoch 36/50\n",
      "14/14 [==============================] - 7s 528ms/step - loss: 0.4325 - accuracy: 0.8171 - val_loss: 0.4332 - val_accuracy: 0.8067\n",
      "Epoch 37/50\n",
      "14/14 [==============================] - 7s 535ms/step - loss: 0.4297 - accuracy: 0.8102 - val_loss: 0.4251 - val_accuracy: 0.8247\n",
      "Epoch 38/50\n",
      "14/14 [==============================] - 7s 533ms/step - loss: 0.4266 - accuracy: 0.8218 - val_loss: 0.4231 - val_accuracy: 0.8067\n",
      "Epoch 39/50\n",
      "14/14 [==============================] - 8s 561ms/step - loss: 0.4215 - accuracy: 0.8241 - val_loss: 0.4189 - val_accuracy: 0.8273\n",
      "Epoch 40/50\n",
      "14/14 [==============================] - 7s 539ms/step - loss: 0.4182 - accuracy: 0.8287 - val_loss: 0.4158 - val_accuracy: 0.8351\n",
      "Epoch 41/50\n",
      "14/14 [==============================] - 8s 568ms/step - loss: 0.4183 - accuracy: 0.8333 - val_loss: 0.4155 - val_accuracy: 0.8170\n",
      "Epoch 42/50\n",
      "14/14 [==============================] - 7s 533ms/step - loss: 0.4147 - accuracy: 0.8287 - val_loss: 0.4101 - val_accuracy: 0.8351\n",
      "Epoch 43/50\n",
      "14/14 [==============================] - 8s 588ms/step - loss: 0.4135 - accuracy: 0.8380 - val_loss: 0.4076 - val_accuracy: 0.8325\n",
      "Epoch 44/50\n",
      "14/14 [==============================] - 7s 505ms/step - loss: 0.4085 - accuracy: 0.8356 - val_loss: 0.4046 - val_accuracy: 0.8376\n",
      "Epoch 45/50\n",
      "14/14 [==============================] - 8s 592ms/step - loss: 0.4064 - accuracy: 0.8380 - val_loss: 0.4026 - val_accuracy: 0.8428\n",
      "Epoch 46/50\n",
      "14/14 [==============================] - 7s 534ms/step - loss: 0.4021 - accuracy: 0.8333 - val_loss: 0.3998 - val_accuracy: 0.8376\n",
      "Epoch 47/50\n",
      "14/14 [==============================] - 8s 572ms/step - loss: 0.4048 - accuracy: 0.8333 - val_loss: 0.3969 - val_accuracy: 0.8428\n",
      "Epoch 48/50\n",
      "14/14 [==============================] - 7s 537ms/step - loss: 0.3968 - accuracy: 0.8380 - val_loss: 0.3946 - val_accuracy: 0.8454\n",
      "Epoch 49/50\n",
      "14/14 [==============================] - 8s 559ms/step - loss: 0.3954 - accuracy: 0.8472 - val_loss: 0.3943 - val_accuracy: 0.8454\n",
      "Epoch 50/50\n",
      "14/14 [==============================] - 7s 548ms/step - loss: 0.3922 - accuracy: 0.8519 - val_loss: 0.3896 - val_accuracy: 0.8428\n"
     ]
    },
    {
     "data": {
      "text/plain": [
       "<keras.src.callbacks.History at 0x16ab00adae0>"
      ]
     },
     "execution_count": 160,
     "metadata": {},
     "output_type": "execute_result"
    }
   ],
   "source": [
    "# Entrenar el modelo\n",
    "epochs = 50\n",
    "batch_size = 32 # 32, 64, 128\n",
    "model.fit(X_train_resized, y_train_temp, epochs=epochs, batch_size=batch_size, validation_data=(X_val_resized, y_val))"
   ]
  },
  {
   "cell_type": "code",
   "execution_count": 161,
   "metadata": {},
   "outputs": [
    {
     "name": "stdout",
     "output_type": "stream",
     "text": [
      "2/2 [==============================] - 1s 97ms/step\n"
     ]
    }
   ],
   "source": [
    "# Evaluar el modelo en el conjunto de prueba\n",
    "y_pred = model.predict(X_test_resized)\n",
    "y_pred_labels = np.round(y_pred).flatten()"
   ]
  },
  {
   "cell_type": "code",
   "execution_count": 162,
   "metadata": {},
   "outputs": [
    {
     "name": "stdout",
     "output_type": "stream",
     "text": [
      "Accuracy: 0.8409090909090909\n",
      "Recall: 0.7619047619047619\n",
      "F1-score: 0.8205128205128205\n"
     ]
    }
   ],
   "source": [
    "# Calcular las métricas de evaluación\n",
    "accuracy = accuracy_score(y_test, y_pred_labels)\n",
    "recall = recall_score(y_test, y_pred_labels)\n",
    "f1 = f1_score(y_test, y_pred_labels)\n",
    "conf_matrix = confusion_matrix(y_test, y_pred_labels)\n",
    "\n",
    "print(\"Accuracy:\", accuracy)\n",
    "print(\"Recall:\", recall)\n",
    "print(\"F1-score:\", f1)\n",
    "#print(\"Confusion Matrix:\")\n",
    "#print(conf_matrix)"
   ]
  },
  {
   "cell_type": "code",
   "execution_count": 163,
   "metadata": {},
   "outputs": [
    {
     "data": {
      "image/png": "[encoded data removed]",
      "text/plain": [
       "<Figure size 400x400 with 1 Axes>"
      ]
     },
     "metadata": {},
     "output_type": "display_data"
    }
   ],
   "source": [
    "# Visualizar la matriz de confusión con Seaborn\n",
    "plt.figure(figsize=(4, 4))\n",
    "sns.heatmap(conf_matrix, annot=True, fmt='d', cmap='Blues', cbar=False, annot_kws={\"size\": 12})\n",
    "plt.xlabel('Labels predichas')\n",
    "plt.ylabel('Labels verdaderos')\n",
    "plt.title('Confusion Matrix')\n",
    "plt.show()"
   ]
  }
 ],
 "metadata": {
  "kernelspec": {
   "display_name": "Python 3",
   "language": "python",
   "name": "python3"
  },
  "language_info": {
   "codemirror_mode": {
    "name": "ipython",
    "version": 3
   },
   "file_extension": ".py",
   "mimetype": "text/x-python",
   "name": "python",
   "nbconvert_exporter": "python",
   "pygments_lexer": "ipython3",
   "version": "3.10.9"
  },
  "orig_nbformat": 4
 },
 "nbformat": 4,
 "nbformat_minor": 2
}
